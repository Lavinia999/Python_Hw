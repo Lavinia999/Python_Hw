{
 "metadata": {
  "language_info": {
   "codemirror_mode": {
    "name": "ipython",
    "version": 3
   },
   "file_extension": ".py",
   "mimetype": "text/x-python",
   "name": "python",
   "nbconvert_exporter": "python",
   "pygments_lexer": "ipython3",
   "version": "3.9.1-final"
  },
  "orig_nbformat": 2,
  "kernelspec": {
   "name": "python3",
   "display_name": "Python 3.9.1 64-bit",
   "metadata": {
    "interpreter": {
     "hash": "572623b5fbc73361059ccbfc36038bae3a976915f2a3fb7a16ee438dc8adf8de"
    }
   }
  }
 },
 "nbformat": 4,
 "nbformat_minor": 2,
 "cells": [
  {
   "cell_type": "code",
   "execution_count": 1,
   "metadata": {},
   "outputs": [],
   "source": [
    "#ex8pag127 se dau lungimile laturilor uni triunghi sa se calculeze lungimile medianilor unui triunghi."
   ]
  },
  {
   "cell_type": "code",
   "execution_count": 23,
   "metadata": {},
   "outputs": [
    {
     "output_type": "stream",
     "name": "stdout",
     "text": [
      "3\n",
      "4\n",
      "5\n",
      "4.27\n",
      "3.61\n",
      "2.5\n"
     ]
    }
   ],
   "source": [
    "import math  \n",
    "a=int(input(\"Introduceti latura a:\"))\n",
    "print(a)\n",
    "b=int(input(\"Introduceti latura b:\"))\n",
    "print(b)\n",
    "c=int(input(\"Introduceti latura c:\"))\n",
    "print(c)\n",
    "def mediana1(a,b,c):\n",
    "    m1=0.5*math.sqrt(2*(b**2)+2*(c**2)-a**2)\n",
    "    return m1 \n",
    "def mediana2(a,b,c):\n",
    "    m2= 0.5*math.sqrt(2*(a**2)+2*(c**2)-b**2)\n",
    "    return m2 \n",
    "def mediana3(a,b,c):\n",
    "    m3= 0.5*math.sqrt(2*(b**2)+2*(a**2)-c**2)\n",
    "    return m3  \n",
    "m1=mediana1(a,b,c) \n",
    "print(round(m1,2)) \n",
    "m2=mediana2(a,b,c) \n",
    "print(round(m2,2))\n",
    "m3=mediana3(a,b,c) \n",
    "print(round(m3,2))"
   ]
  },
  {
   "cell_type": "code",
   "execution_count": 15,
   "metadata": {},
   "outputs": [],
   "source": [
    "#ex9pag127 se dau lungimile unui triunghi sa se calculeze inaltimile triunghiului"
   ]
  },
  {
   "cell_type": "code",
   "execution_count": 22,
   "metadata": {},
   "outputs": [
    {
     "output_type": "stream",
     "name": "stdout",
     "text": [
      "3\n",
      "4\n",
      "5\n",
      "4.0\n",
      "3.0\n",
      "2.4\n"
     ]
    }
   ],
   "source": [
    "import math  \n",
    "a=int(input(\"Introduceti latura a:\"))\n",
    "print(a)\n",
    "b=int(input(\"Introduceti latura b:\"))\n",
    "print(b)\n",
    "c=int(input(\"Introduceti latura c:\"))\n",
    "print(c)\n",
    "if  a+b>=c and b+c>=a and c+a>=b:\n",
    "    s=(a+b+c)/2\n",
    "    Aria=(s*(s-a)*(s-b)*(s-c))**0.5\n",
    "def inaltime1(a):\n",
    "    h1=(2*Aria)/a\n",
    "    return h1 \n",
    "def inaltime2(b):\n",
    "    h2=(2*Aria)/b\n",
    "    return h2\n",
    "def inaltime3(c):\n",
    "    h3=(2*Aria)/c\n",
    "    return h3   \n",
    "s1=inaltime1(a) \n",
    "print(round(s1,2)) \n",
    "s2=inaltime2(b) \n",
    "print(round(s2,2))\n",
    "s3=inaltime3(c) \n",
    "print(round(s3,2))"
   ]
  },
  {
   "cell_type": "code",
   "execution_count": null,
   "metadata": {},
   "outputs": [],
   "source": []
  }
 ]
}