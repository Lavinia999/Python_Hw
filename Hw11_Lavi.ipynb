{
 "metadata": {
  "language_info": {
   "codemirror_mode": {
    "name": "ipython",
    "version": 3
   },
   "file_extension": ".py",
   "mimetype": "text/x-python",
   "name": "python",
   "nbconvert_exporter": "python",
   "pygments_lexer": "ipython3",
   "version": "3.9.2-final"
  },
  "orig_nbformat": 2,
  "kernelspec": {
   "name": "python3",
   "display_name": "Python 3.9.2 64-bit",
   "metadata": {
    "interpreter": {
     "hash": "572623b5fbc73361059ccbfc36038bae3a976915f2a3fb7a16ee438dc8adf8de"
    }
   }
  }
 },
 "nbformat": 4,
 "nbformat_minor": 2,
 "cells": [
  {
   "cell_type": "code",
   "execution_count": 1,
   "metadata": {},
   "outputs": [],
   "source": [
    "#Homework 11"
   ]
  },
  {
   "cell_type": "code",
   "execution_count": 50,
   "metadata": {},
   "outputs": [
    {
     "output_type": "stream",
     "name": "stdout",
     "text": [
      "Animal's eye color-brown\n\n"
     ]
    }
   ],
   "source": [
    "class Mammal:\n",
    "    def __init__(self,eye_color):\n",
    "        self._eye_color=eye_color\n",
    "    def eye_color(self):\n",
    "        print(f\"Animal's eye color-{self._eye_color}\\n\")\n",
    "animal=Mammal('brown')\n",
    "animal.eye_color()"
   ]
  },
  {
   "cell_type": "code",
   "execution_count": 51,
   "metadata": {},
   "outputs": [
    {
     "output_type": "execute_result",
     "data": {
      "text/plain": [
       "400"
      ]
     },
     "metadata": {},
     "execution_count": 51
    }
   ],
   "source": [
    "class BarkFrequency(Mammal):\n",
    "    def __init__(self,bark):\n",
    "        super().__init__('brown')  \n",
    "        self._bark=bark\n",
    "dog=BarkFrequency(400)\n",
    "dog._bark"
   ]
  },
  {
   "cell_type": "code",
   "execution_count": 53,
   "metadata": {},
   "outputs": [
    {
     "output_type": "execute_result",
     "data": {
      "text/plain": [
       "67"
      ]
     },
     "metadata": {},
     "execution_count": 53
    }
   ],
   "source": [
    "class MeowFrequency(Mammal):\n",
    "    def __init__(self,meow):\n",
    "        super().__init__('brown')  \n",
    "        self._meow=meow\n",
    "cat=MeowFrequency(67)\n",
    "cat._meow"
   ]
  },
  {
   "cell_type": "code",
   "execution_count": 54,
   "metadata": {},
   "outputs": [],
   "source": [
    "#GermanShepherd/Poodle"
   ]
  },
  {
   "cell_type": "code",
   "execution_count": 55,
   "metadata": {},
   "outputs": [
    {
     "output_type": "stream",
     "name": "stdout",
     "text": [
      "German Shepherd is German\nPoodle is French\n"
     ]
    }
   ],
   "source": [
    "class Breed(BarkFrequency):\n",
    "    def __init__(self,german_shepherd,poodle):\n",
    "        super().__init__('400')  \n",
    "        self._german_shepherd=german_shepherd\n",
    "        self._poodle=poodle\n",
    "        print(f\"German Shepherd {self._german_shepherd}\\nPoodle {self._poodle}\")\n",
    "dog_breed=Breed('is German','is French')"
   ]
  },
  {
   "cell_type": "code",
   "execution_count": null,
   "metadata": {},
   "outputs": [],
   "source": []
  }
 ]
}