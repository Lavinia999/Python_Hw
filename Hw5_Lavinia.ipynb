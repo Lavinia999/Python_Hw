{
 "metadata": {
  "language_info": {
   "codemirror_mode": {
    "name": "ipython",
    "version": 3
   },
   "file_extension": ".py",
   "mimetype": "text/x-python",
   "name": "python",
   "nbconvert_exporter": "python",
   "pygments_lexer": "ipython3",
   "version": "3.9.1-final"
  },
  "orig_nbformat": 2,
  "kernelspec": {
   "name": "python3",
   "display_name": "Python 3.9.1 64-bit",
   "metadata": {
    "interpreter": {
     "hash": "572623b5fbc73361059ccbfc36038bae3a976915f2a3fb7a16ee438dc8adf8de"
    }
   }
  }
 },
 "nbformat": 4,
 "nbformat_minor": 2,
 "cells": [
  {
   "cell_type": "code",
   "execution_count": null,
   "metadata": {},
   "outputs": [],
   "source": [
    "#ex5pag94 Se da un text. Sa se calculeze numarul:\n"
   ]
  },
  {
   "cell_type": "code",
   "execution_count": 18,
   "metadata": {},
   "outputs": [
    {
     "output_type": "stream",
     "name": "stdout",
     "text": [
      "Oh, are you doing magic? Let's see it, then.\nNumarul vocalelor este: 14\nNumarul consoanelor este: 30\nNumarul simbolurilor este: 13\nNumarul literelor mici este: 29\nNumarul literelor mari este: 2\nNumarul cifrelor este: 0\n"
     ]
    }
   ],
   "source": [
    "# a)vocalelor  b)consoanelor  c)simbolurilor care nu sunt litere  d)literelor mici  e)literelor mari  f)cifrelor\n",
    "text=str(input(\"Introduceti un text:\"))\n",
    "print(text)\n",
    "vocala=consoana=simbol=cifra=mici=mari=0\n",
    "for i in text:\n",
    "      if(i=='a' or i=='e' or i=='i' or i=='o' or i=='u' or i=='A' or i=='E' or i=='I' or i=='O' or i=='U'):\n",
    "          vocala=vocala+1\n",
    "      else:\n",
    "          consoana = consoana + 1\n",
    "for i in range(len(text)):\n",
    "    if(text[i] >= 'a' and text[i] <= 'z'): \n",
    "        mici = mici + 1\n",
    "    elif(text[i] >= '0' and text[i] <= '9'):\n",
    "        cifra=cifra + 1\n",
    "    elif(text[i] >= 'A' and text[i] <= 'Z'):\n",
    "        mari = mari + 1\n",
    "    else:\n",
    "        simbol = simbol + 1\n",
    "print(\"Numarul vocalelor este:\",vocala)\n",
    "print(\"Numarul consoanelor este:\",consoana)\n",
    "print(\"Numarul simbolurilor este:\",simbol)\n",
    "print(\"Numarul literelor mici este:\",mici)\n",
    "print(\"Numarul literelor mari este:\",mari)\n",
    "print(\"Numarul cifrelor este:\",cifra)"
   ]
  },
  {
   "cell_type": "code",
   "execution_count": null,
   "metadata": {},
   "outputs": [],
   "source": []
  }
 ]
}