{
 "metadata": {
  "language_info": {
   "codemirror_mode": {
    "name": "ipython",
    "version": 3
   },
   "file_extension": ".py",
   "mimetype": "text/x-python",
   "name": "python",
   "nbconvert_exporter": "python",
   "pygments_lexer": "ipython3",
   "version": "3.9.1-final"
  },
  "orig_nbformat": 2,
  "kernelspec": {
   "name": "python3",
   "display_name": "Python 3.9.1 64-bit",
   "metadata": {
    "interpreter": {
     "hash": "572623b5fbc73361059ccbfc36038bae3a976915f2a3fb7a16ee438dc8adf8de"
    }
   }
  }
 },
 "nbformat": 4,
 "nbformat_minor": 2,
 "cells": [
  {
   "cell_type": "code",
   "execution_count": 1,
   "metadata": {},
   "outputs": [],
   "source": [
    "#ex14pag116 Sa se numere lieterele si cifrele dintr-un fisier"
   ]
  },
  {
   "cell_type": "code",
   "execution_count": 88,
   "metadata": {},
   "outputs": [
    {
     "output_type": "stream",
     "name": "stdout",
     "text": [
      "Numarul literelor in fisier: 146\nNumarul cifrelor in fisier: 2\n"
     ]
    }
   ],
   "source": [
    "file = open(\"letters.txt\", \"r\")\n",
    "text= file.read()\n",
    "nrl=cifra=0\n",
    "for i in range(len(text)):\n",
    "    if(text[i] >= 'a' and text[i] <= 'z' or text[i] >= 'A' and text[i] <= 'Z'): \n",
    "        nrl = nrl + 1\n",
    "    elif(text[i] >= '0' and text[i] <= '9'):\n",
    "        cifra=cifra + 1\n",
    "print('Numarul literelor in fisier:', nrl)\n",
    "print('Numarul cifrelor in fisier:', cifra)"
   ]
  },
  {
   "cell_type": "code",
   "execution_count": 41,
   "metadata": {},
   "outputs": [],
   "source": [
    "#ex15pag116 Se se afiseze la ecran randurile de lungime minimala."
   ]
  },
  {
   "cell_type": "code",
   "execution_count": 15,
   "metadata": {},
   "outputs": [
    {
     "output_type": "stream",
     "name": "stdout",
     "text": [
      "\n"
     ]
    }
   ],
   "source": [
    "min_l = 0\n",
    "min_lin = ''\n",
    "file = open(\"letters.txt\")\n",
    "for line in file:\n",
    "    if(len(line) < min_l):\n",
    "        min_l = len(line)\n",
    "        min_lin = line\n",
    "print(min_len_line)"
   ]
  },
  {
   "cell_type": "code",
   "execution_count": 14,
   "metadata": {},
   "outputs": [
    {
     "output_type": "stream",
     "name": "stdout",
     "text": [
      "Is 2.\n"
     ]
    }
   ],
   "source": [
    "print (min(open('letters.txt'), key=len))"
   ]
  },
  {
   "cell_type": "code",
   "execution_count": null,
   "metadata": {},
   "outputs": [],
   "source": []
  }
 ]
}