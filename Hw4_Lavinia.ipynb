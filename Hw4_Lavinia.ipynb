{
 "metadata": {
  "language_info": {
   "codemirror_mode": {
    "name": "ipython",
    "version": 3
   },
   "file_extension": ".py",
   "mimetype": "text/x-python",
   "name": "python",
   "nbconvert_exporter": "python",
   "pygments_lexer": "ipython3",
   "version": "3.9.1-final"
  },
  "orig_nbformat": 2,
  "kernelspec": {
   "name": "python3",
   "display_name": "Python 3.9.1 64-bit",
   "metadata": {
    "interpreter": {
     "hash": "572623b5fbc73361059ccbfc36038bae3a976915f2a3fb7a16ee438dc8adf8de"
    }
   }
  }
 },
 "nbformat": 4,
 "nbformat_minor": 2,
 "cells": [
  {
   "cell_type": "code",
   "execution_count": 1,
   "metadata": {},
   "outputs": [],
   "source": [
    "#Se da un vector cu n (1<=n<=100) componente numere intregi. Sa se calculeze:\n",
    "#a) suma componentelor lui;  b)produsul componentelor lui"
   ]
  },
  {
   "cell_type": "code",
   "execution_count": 5,
   "metadata": {},
   "outputs": [
    {
     "output_type": "stream",
     "name": "stdout",
     "text": [
      "Suma componentelor: 17\n"
     ]
    }
   ],
   "source": [
    "lst = []\n",
    "num = int(input('Introduceti numarul componentelor vectorului: '))\n",
    "for n in range(num):\n",
    "    numbers = int(input('Introduceti componentul '))\n",
    "    lst.append(numbers)\n",
    "print(\"Suma componentelor:\", sum(lst))"
   ]
  },
  {
   "cell_type": "code",
   "execution_count": 18,
   "metadata": {},
   "outputs": [
    {
     "output_type": "stream",
     "name": "stdout",
     "text": [
      "Produsul componentelor este:  70\n"
     ]
    }
   ],
   "source": [
    "my_list = []\n",
    "num = int(input('Introduceti numarul componentelor vectorului: '))\n",
    "for i in range(num):\n",
    "    my_list.append(int(input(\"Introduduceti componentul \")))\n",
    "product = 1\n",
    "for i in my_list:\n",
    "    product *= i\n",
    "print(\"Produsul componentelor este: \",product)"
   ]
  }
 ]
}
