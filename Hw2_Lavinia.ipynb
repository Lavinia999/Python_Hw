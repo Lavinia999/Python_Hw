{
 "metadata": {
  "language_info": {
   "codemirror_mode": {
    "name": "ipython",
    "version": 3
   },
   "file_extension": ".py",
   "mimetype": "text/x-python",
   "name": "python",
   "nbconvert_exporter": "python",
   "pygments_lexer": "ipython3",
   "version": "3.9.1-final"
  },
  "orig_nbformat": 2,
  "kernelspec": {
   "name": "python3",
   "display_name": "Python 3.9.1 64-bit",
   "metadata": {
    "interpreter": {
     "hash": "de44a8afd72989eceb8c8c287f96e46d5346d7c0f12ea874a0f21ea656175e48"
    }
   }
  }
 },
 "nbformat": 4,
 "nbformat_minor": 2,
 "cells": [
  {
   "cell_type": "code",
   "execution_count": 34,
   "metadata": {},
   "outputs": [
    {
     "output_type": "stream",
     "name": "stdout",
     "text": [
      "Ecuatia are o solutie\n-1.0\n"
     ]
    }
   ],
   "source": [
    "#Input:a,b,c. Output: Print the solutions of equation ax^2+bx+c\n",
    "import math\n",
    "a=float(input(\"Introduceti a:\"))\n",
    "b=float(input(\"Introduceti b:\"))\n",
    "c=float(input(\"Introduceti c:\"))\n",
    "delta=(b**2)-(4*a*c)\n",
    "if delta>0:\n",
    "    print(\"Ecuatia are doua solutii reale\")\n",
    "    print(-b+math.sqrt(delta)/(2*a))\n",
    "    print(-b-math.sqrt(delta)/(2*a))\n",
    "elif delta==0:\n",
    "    print('Ecuatia are o solutie')\n",
    "    print(-b/(2*a))\n",
    "else:\n",
    "    print(\"Ecuatia nu are solutii reale\")\n"
   ]
  },
  {
   "cell_type": "code",
   "execution_count": 19,
   "metadata": {},
   "outputs": [
    {
     "output_type": "stream",
     "name": "stdout",
     "text": [
      "d=3.1622776601683795\n"
     ]
    }
   ],
   "source": [
    "#Input: x1,x2,y1,y2. Output: The euclidean distance between (x1,y1) and (x2, y2).\n",
    "\n",
    "import math\n",
    "x1=float(input(\"Introduceti x1:\"))\n",
    "x2=float(input(\"Introduceti x2:\"))\n",
    "y1=float(input(\"Introduceti y1:\"))\n",
    "y2=float(input(\"Introduceti y2:\"))\n",
    "dist=math.sqrt((x2-x1)**2 + (y2-y1)**2)\n",
    "print(f\"d={dist}\")\n"
   ]
  },
  {
   "cell_type": "code",
   "execution_count": null,
   "metadata": {},
   "outputs": [],
   "source": []
  }
 ]
}