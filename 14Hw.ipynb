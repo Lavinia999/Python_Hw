{
 "metadata": {
  "language_info": {
   "codemirror_mode": {
    "name": "ipython",
    "version": 3
   },
   "file_extension": ".py",
   "mimetype": "text/x-python",
   "name": "python",
   "nbconvert_exporter": "python",
   "pygments_lexer": "ipython3",
   "version": "3.9.2-final"
  },
  "orig_nbformat": 2,
  "kernelspec": {
   "name": "python3",
   "display_name": "Python 3.9.2 64-bit",
   "metadata": {
    "interpreter": {
     "hash": "572623b5fbc73361059ccbfc36038bae3a976915f2a3fb7a16ee438dc8adf8de"
    }
   }
  }
 },
 "nbformat": 4,
 "nbformat_minor": 2,
 "cells": [
  {
   "cell_type": "code",
   "execution_count": 9,
   "metadata": {},
   "outputs": [],
   "source": [
    "#14Homework"
   ]
  },
  {
   "cell_type": "code",
   "execution_count": 66,
   "metadata": {},
   "outputs": [
    {
     "output_type": "stream",
     "name": "stdout",
     "text": [
      "The addition of two vectors= (5, 3.5)\nScalar multiplication of the first vector by 8= (16, 40)\nScalar multiplication of the second vector by -2= (-4, -10)\nVector representation= (2, 5)\nVector representation= (3, -1.5)\nmod of the vector= 5.385164807134504\n"
     ]
    }
   ],
   "source": [
    "import math\n",
    "class Vector:\n",
    "    def __init__(self, x, y):\n",
    "        self.x=x\n",
    "        self.y=y\n",
    "    def __add__(self, other):#The addition of two vectors\n",
    "        return Vector(self.x + other.x, self.y + other.y)\n",
    "    def __mul__(self, scalar):#Scalar multiplication\n",
    "        if isinstance(scalar, int) or isinstance(scalar, float):\n",
    "            return Vector(self.x*scalar, self.y*scalar)\n",
    "        raise NotImplementedError\n",
    "    def __rmul__(self, scalar):\n",
    "        return self.__mul__(scalar)\n",
    "    def __repr__(self): #Vector representation\n",
    "        return f\"<Vector [{self.x},{self.y}]>\"\n",
    "    def __abs__(self): #mod of the vector\n",
    "        return math.sqrt(self.x**2 + self.y**2)\n",
    "    def __repr__(self):\n",
    "        return repr((self.x, self.y))\n",
    "v1 = Vector(2,5)\n",
    "v2 = Vector(3,-1.5)\n",
    "print('The addition of two vectors=', v1 + v2)\n",
    "print('Scalar multiplication of the first vector by 8=', v1*8)\n",
    "print('Scalar multiplication of the second vector by -2=', v1*-2)\n",
    "print('Vector representation=', v1)\n",
    "print('Vector representation=', v2)\n",
    "print('mod of the vector=', abs(v1))"
   ]
  },
  {
   "cell_type": "code",
   "execution_count": null,
   "metadata": {},
   "outputs": [],
   "source": []
  }
 ]
}